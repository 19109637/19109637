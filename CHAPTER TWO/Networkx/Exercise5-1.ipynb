{
 "cells": [
  {
   "cell_type": "code",
   "execution_count": 1,
   "metadata": {},
   "outputs": [],
   "source": [
    "import networkx as nx\n",
    "import csv\n",
    "import matplotlib.pyplot as plt\n",
    "import numpy as np \n",
    "import pandas as pd\n",
    "from pyvis.network import Network"
   ]
  },
  {
   "cell_type": "code",
   "execution_count": 2,
   "metadata": {},
   "outputs": [
    {
     "name": "stdout",
     "output_type": "stream",
     "text": [
      "Requirement already satisfied: pyvis in d:\\anaconda\\lib\\site-packages (0.1.9)\n",
      "Requirement already satisfied: jinja2>=2.9.6 in d:\\anaconda\\lib\\site-packages (from pyvis) (2.11.3)\n",
      "Requirement already satisfied: ipython>=5.3.0 in d:\\anaconda\\lib\\site-packages (from pyvis) (7.22.0)\n",
      "Requirement already satisfied: networkx>=1.11 in d:\\anaconda\\lib\\site-packages (from pyvis) (2.6.3)\n",
      "Requirement already satisfied: jsonpickle>=1.4.1 in d:\\anaconda\\lib\\site-packages (from pyvis) (2.0.0)\n",
      "Requirement already satisfied: backcall in d:\\anaconda\\lib\\site-packages (from ipython>=5.3.0->pyvis) (0.2.0)\n",
      "Requirement already satisfied: decorator in d:\\anaconda\\lib\\site-packages (from ipython>=5.3.0->pyvis) (5.0.6)\n",
      "Requirement already satisfied: pygments in d:\\anaconda\\lib\\site-packages (from ipython>=5.3.0->pyvis) (2.8.1)\n",
      "Requirement already satisfied: colorama in d:\\anaconda\\lib\\site-packages (from ipython>=5.3.0->pyvis) (0.4.4)\n",
      "Requirement already satisfied: pickleshare in d:\\anaconda\\lib\\site-packages (from ipython>=5.3.0->pyvis) (0.7.5)\n",
      "Requirement already satisfied: prompt-toolkit!=3.0.0,!=3.0.1,<3.1.0,>=2.0.0 in d:\\anaconda\\lib\\site-packages (from ipython>=5.3.0->pyvis) (3.0.17)\n",
      "Requirement already satisfied: jedi>=0.16 in d:\\anaconda\\lib\\site-packages (from ipython>=5.3.0->pyvis) (0.17.2)\n",
      "Requirement already satisfied: setuptools>=18.5 in d:\\anaconda\\lib\\site-packages (from ipython>=5.3.0->pyvis) (52.0.0.post20210125)\n",
      "Requirement already satisfied: traitlets>=4.2 in d:\\anaconda\\lib\\site-packages (from ipython>=5.3.0->pyvis) (5.0.5)\n",
      "Requirement already satisfied: parso<0.8.0,>=0.7.0 in d:\\anaconda\\lib\\site-packages (from jedi>=0.16->ipython>=5.3.0->pyvis) (0.7.0)\n",
      "Requirement already satisfied: MarkupSafe>=0.23 in d:\\anaconda\\lib\\site-packages (from jinja2>=2.9.6->pyvis) (1.1.1)\n",
      "Requirement already satisfied: wcwidth in d:\\anaconda\\lib\\site-packages (from prompt-toolkit!=3.0.0,!=3.0.1,<3.1.0,>=2.0.0->ipython>=5.3.0->pyvis) (0.2.5)\n",
      "Requirement already satisfied: ipython-genutils in d:\\anaconda\\lib\\site-packages (from traitlets>=4.2->ipython>=5.3.0->pyvis) (0.2.0)\n"
     ]
    }
   ],
   "source": [
    "!pip install pyvis"
   ]
  },
  {
   "cell_type": "code",
   "execution_count": 3,
   "metadata": {},
   "outputs": [],
   "source": [
    "class Airplane:\n",
    "    def __init__(self,airport,country,passengers,year,label,name):\n",
    "        self.airport = airport\n",
    "        self.country = country\n",
    "        self.passengers =  passengers\n",
    "        self.year =  year\n",
    "        self.label = label\n",
    "        self.name = name"
   ]
  },
  {
   "cell_type": "code",
   "execution_count": 4,
   "metadata": {},
   "outputs": [
    {
     "name": "stdout",
     "output_type": "stream",
     "text": [
      "['锘縭ank', 'name', 'airport', 'country', 'passengers', 'year']\n",
      "['1', '1', 'China聽Guangzhou Baiyun International Airport', 'China', '43760427', '2020']\n"
     ]
    }
   ],
   "source": [
    "with open(\"Airportsdata.csv\") as csvfile:\n",
    "    reader = csv.reader(csvfile)\n",
    "    print(next(reader))\n",
    "    print(next(reader))"
   ]
  },
  {
   "cell_type": "code",
   "execution_count": 6,
   "metadata": {},
   "outputs": [],
   "source": [
    "Airportsdatazz= []\n",
    "with open(\"Airportsdata.csv\") as csvfile:\n",
    "    reader = csv.DictReader(csvfile)\n",
    "    for row in reader:\n",
    "        airport = row['airport']\n",
    "        country =row['country']\n",
    "        passengers = row['passengers']\n",
    "        year = row['year']\n",
    "        name = row['name']\n",
    "        label = airport + ':' + passengers + ','+ year\n",
    "        Airportsdatazz.append(Airplane(airport, country,int(passengers), year,label,name))"
   ]
  },
  {
   "cell_type": "code",
   "execution_count": 7,
   "metadata": {},
   "outputs": [],
   "source": [
    "AirplaneGraph = nx.Graph()"
   ]
  },
  {
   "cell_type": "code",
   "execution_count": 8,
   "metadata": {},
   "outputs": [],
   "source": [
    "AirplaneInfo = Airportsdatazz[0:300]"
   ]
  },
  {
   "cell_type": "code",
   "execution_count": 9,
   "metadata": {},
   "outputs": [],
   "source": [
    "for f in AirplaneInfo:\n",
    "    AirplaneGraph.add_node(f.label, label = f.label,size= 10, color='blue')"
   ]
  },
  {
   "cell_type": "code",
   "execution_count": 10,
   "metadata": {},
   "outputs": [],
   "source": [
    "for f1 in AirplaneInfo:\n",
    "    for f2 in AirplaneInfo:\n",
    "        if not f1 == f2:\n",
    "            if f1.country=='China' and f2.country =='China':\n",
    "                AirplaneGraph.add_edge(f1.label,f2.label,weight=1,color='yellow')\n",
    "            if f1.passengers <= 20000000 and f2.passengers <= 20000000:\n",
    "                AirplaneGraph.add_edge(f1.label,f2.label,weight=1,color='brown') \n",
    "            if 20000000< f1.passengers <= 50000000 and 20000000< f2.passengers <= 50000000:\n",
    "                AirplaneGraph.add_edge(f1.label,f2.label,weight=1,color='green') \n",
    "            if 50000000 <f1.passengers <= 80000000 and 50000000 <f2.passengers <= 80000000:\n",
    "                AirplaneGraph.add_edge(f1.label,f2.label,weight=1,color='grey')\n",
    "            if f1.passengers > 80000000 and f2.passengers > 80000000:\n",
    "                AirplaneGraph.add_edge(f1.label,f2.label,weight=1,color='orange')\n",
    "                "
   ]
  },
  {
   "cell_type": "code",
   "execution_count": 11,
   "metadata": {},
   "outputs": [
    {
     "name": "stdout",
     "output_type": "stream",
     "text": [
      "{'China聽Guangzhou Baiyun International Airport:43760427,2020': 0.7805507745266781, 'United States聽Hartsfield鈥揓ackson Atlanta International Airport:42918685,2020': 1.0, 'China聽Chengdu Shuangliu International Airport:40741509,2020': 0.7805507745266781, 'United States聽Dallas/Fort Worth International Airport:39364990,2020': 1.0, \"China聽Shenzhen Bao'an International Airport:37916059,2020\": 0.7805507745266781, 'China聽Chongqing Jiangbei International Airport:34937789,2020': 0.7805507745266781, 'China聽Beijing Capital International Airport:34513827,2020': 0.7805507745266781, 'United States聽Denver International Airport:33741129,2020': 1.0, 'China聽Kunming Changshui International Airport:32989127,2020': 0.7805507745266781, 'China聽Shanghai Hongqiao International Airport:31165641,2020': 0.7805507745266781, \"China聽Xi'an Xianyang International Airport:31073884,2020\": 0.7805507745266781, 'Japan聽Tokyo Haneda Airport:30965027,2020': 1.0, \"United States聽O'Hare International Airport:30860251,2020\": 1.0, 'China聽Shanghai Pudong International Airport:30476531,2020': 0.7805507745266781, 'United States聽Los Angeles International Airport:28779527,2020': 1.0, 'India聽Indira Gandhi International Airport:28501000,2020': 1.0, 'China聽Hangzhou Xiaoshan International Airport:28224342,2020': 0.7805507745266781, 'United States聽Charlotte Douglas International Airport:27200000,2020': 1.0, 'United Arab Emirates聽Dubai International Airport:25900000,2020': 1.0, 'Turkey聽Istanbul Airport:23409000,2020': 1.0, 'France聽Charles de Gaulle Airport:22257469,2020': 1.0, 'United Kingdom聽Heathrow Airport:22109726,2020': 1.0, 'Mexico聽Mexico City International Airport:21981711,2020': 1.0, 'United States聽Phoenix Sky Harbor International Airport:21928708,2020': 1.0, 'Vietnam聽Tan Son Nhat International Airport:21900000,2020': 1.0, 'United States聽Orlando International Airport:21617803,2020': 1.0, 'China聽Zhengzhou Xinzheng International Airport:21406709,2020': 0.7805507745266781, 'South Korea聽Jeju International Airport:21054696,2020': 1.0, 'Netherlands聽Amsterdam Airport Schiphol:20887174,2020': 1.0, 'Brazil聽S茫o Paulo/Guarulhos International Airport:20322520,2020': 1.0, 'United States聽Seattle鈥揟acoma International Airport:20061507,2020': 1.0, 'China聽Nanjing Lukou International Airport:19906576,2020': 0.6483091787439613, 'Russia聽Sheremetyevo International Airport:19784000,2020': 1.0, 'China聽Changsha Huanghua International Airport:19223825,2020': 0.6483091787439613, 'Germany聽Frankfurt Airport:18770998,2020': 1.0, 'United States聽Miami International Airport:18663858,2020': 1.0, 'United States聽George Bush Intercontinental Airport:18213571,2020': 1.0, 'South Korea聽Gimpo International Airport:17446239,2020': 1.0, 'Spain聽Madrid Barajas Airport:17112000,2020': 1.0, 'Turkey聽Istanbul Sabiha G枚k莽en International Airport:16982456,2020': 1.0, 'China聽Xiamen Gaoqi International Airport:16710197,2020': 0.6483091787439613, 'Thailand聽Suvarnabhumi Airport:16706000,2020': 1.0, 'United States聽John F. Kennedy International Airport:16630642,2020': 1.0, 'China聽Guiyang Longdongbao International Airport:16583878,2020': 0.6483091787439613, 'China聽Haikou Meilan International Airport:16490216,2020': 0.6483091787439613, 'United States聽Fort Lauderdale鈥揌ollywood International Airport:16484132,2020': 1.0, 'United States聽San Francisco International Airport:16409625,2020': 1.0, 'Russia聽Moscow Domodedovo Airport:16300000,2020': 1.0, 'China聽Beijing Daxing International Airport:16091449,2020': 0.6483091787439613, 'United States聽Newark Liberty International Airport:15892892,2020': 1.0, 'United States聽Hartsfield鈥揓ackson Atlanta International Airport:110531300,2019': 1.0, 'China聽Beijing Capital International Airport:100011438,2019': 0.6121212121212121, 'United States聽Los Angeles International Airport:88068013,2019': 1.0, 'United Arab Emirates聽Dubai International Airport:86396757,2019': 1.0, 'Japan聽Tokyo Haneda Airport:85505054,2019': 1.0, \"United States聽O'Hare International Airport:84372618,2019\": 1.0, 'United Kingdom聽Heathrow Airport:80888305,2019': 1.0, 'China聽Shanghai Pudong International Airport:76153455,2019': 0.589041095890411, 'France聽Charles de Gaulle Airport:76150009,2019': 1.0, 'United States聽Dallas/Fort Worth International Airport:75066956,2019': 1.0, 'China聽Guangzhou Baiyun International Airport:73378475,2019': 0.589041095890411, 'Netherlands聽Amsterdam Airport Schiphol:71706999,2019': 1.0, 'Hong Kong聽Hong Kong International Airport:71415245,2019': 1.0, 'South Korea聽Seoul Incheon International Airport:71204153,2019': 1.0, 'Germany聽Frankfurt Airport:70556072,2019': 1.0, 'United States聽Denver International Airport:69015703,2019': 1.0, 'India聽Indira Gandhi International Airport:68490731,2019': 1.0, 'Singapore聽Singapore Changi Airport:68283000,2019': 1.0, 'Thailand聽Suvarnabhumi Airport:65421844,2019': 1.0, 'United States聽John F. Kennedy International Airport:62551072,2019': 1.0, 'Malaysia聽Kuala Lumpur International Airport:62336469,2019': 1.0, 'Spain聽Madrid Barajas Airport:61707469,2019': 1.0, 'United States聽San Francisco International Airport:57418574,2019': 1.0, 'China聽Chengdu Shuangliu International Airport:55858552,2019': 0.589041095890411, 'Indonesia聽Soekarno鈥揌atta International Airport:54496625,2019': 1.0, \"China聽Shenzhen Bao'an International Airport:52931925,2019\": 0.589041095890411, 'Spain聽Barcelona鈥揈l Prat Airport:52663623,2019': 1.0, 'Turkey聽Istanbul Airport:52009220,2019': 1.0, 'United States聽Seattle鈥揟acoma International Airport:51829239,2019': 1.0, 'United States聽McCarran International Airport:51691066,2019': 1.0, 'United States聽Orlando International Airport:50613072,2019': 1.0, 'Canada聽Toronto Pearson International Airport:50496804,2019': 1.0, 'Mexico聽Mexico City International Airport:50308049,2019': 1.0, 'United States聽Charlotte Douglas International Airport:50168783,2019': 1.0, 'Russia聽Sheremetyevo International Airport:49932752,2019': 1.0, 'Taiwan聽Taiwan Taoyuan International Airport:48689372,2019': 1.0, 'China聽Kunming Changshui International Airport:48076238,2019': 0.7805507745266781, 'Germany聽Munich Airport:47941348,2019': 1.0, 'Philippines聽Ninoy Aquino International Airport:47898046,2019': 1.0, \"China聽Xi'an Xianyang International Airport:47220547,2019\": 0.7805507745266781, 'India聽Chhatrapati Shivaji Maharaj International Airport:47055740,2019': 1.0, 'United Kingdom聽London Gatwick Airport:46576473,2019': 1.0, 'United States聽Newark Liberty International Airport:46336452,2019': 1.0, 'United States聽Phoenix Sky Harbor International Airport:46287790,2019': 1.0, 'United States聽Miami International Airport:45924466,2019': 1.0, 'China聽Shanghai Hongqiao International Airport:45637882,2019': 0.7805507745266781, 'United States聽George Bush Intercontinental Airport:44990399,2019': 1.0, 'China聽Chongqing Jiangbei International Airport:44786722,2019': 0.7805507745266781, 'Australia聽Sydney Kingsford-Smith Airport:44446838,2019': 1.0, 'Japan聽Narita International Airport:44340847,2019': 1.0, 'United States聽Hartsfield鈥揓ackson Atlanta International Airport:107394029,2018': 1.0, 'China聽Beijing Capital International Airport:100983290,2018': 0.6121212121212121, 'United Arab Emirates聽Dubai International Airport:89149387,2018': 1.0, 'United States聽Los Angeles International Airport:87534384,2018': 1.0, 'Japan聽Tokyo Haneda Airport:87502720,2018': 1.0, \"United States聽O'Hare International Airport:83339186,2018\": 1.0, 'United Kingdom聽Heathrow Airport:80126320,2018': 1.0, 'Hong Kong聽Hong Kong International Airport:74517402,2018': 1.0, 'China聽Shanghai Pudong International Airport:74006331,2018': 0.589041095890411, 'France聽Charles de Gaulle Airport:72229723,2018': 1.0, 'Netherlands聽Amsterdam Airport Schiphol:71053147,2018': 1.0, 'India聽Indira Gandhi International Airport:69900938,2018': 1.0, 'China聽Guangzhou Baiyun International Airport:69769497,2018': 0.589041095890411, 'Germany聽Frankfurt Airport:69510269,2018': 1.0, 'United States聽Dallas/Fort Worth International Airport:69112607,2018': 1.0, 'South Korea聽Seoul Incheon International Airport:68350784,2018': 1.0, 'Turkey聽Istanbul Atat眉rk Airport:68192683,2018': 1.0, 'Indonesia聽Soekarno鈥揌atta International Airport:66908159,2018': 1.0, 'Singapore聽Singapore Changi Airport:65628000,2018': 1.0, 'United States聽Denver International Airport:64494613,2018': 1.0, 'Thailand聽Suvarnabhumi Airport:63378923,2018': 1.0, 'United States聽John F. Kennedy International Airport:61623756,2018': 1.0, 'Malaysia聽Kuala Lumpur International Airport:60013397,2018': 1.0, 'Spain聽Madrid Barajas Airport:57862951,2018': 1.0, 'United States聽San Francisco International Airport:57708196,2018': 1.0, 'China聽Chengdu Shuangliu International Airport:52950529,2018': 0.589041095890411, 'Spain聽Barcelona鈥揈l Prat Airport:50148228,2018': 1.0, 'India聽Chhatrapati Shivaji Maharaj International Airport:49876769,2018': 1.0, 'United States聽McCarran International Airport:49863090,2018': 1.0, 'United States聽Seattle鈥揟acoma International Airport:49849520,2018': 1.0, 'Canada聽Toronto Pearson International Airport:49467097,2018': 1.0, \"China聽Shenzhen Bao'an International Airport:49348950,2018\": 0.7805507745266781, 'Mexico聽Mexico City International Airport:47700834,2018': 1.0, 'United States聽Orlando International Airport:47694573,2018': 1.0, 'China聽Kunming Changshui International Airport:47215986,2018': 0.7805507745266781, 'Taiwan聽Taiwan Taoyuan International Airport:46535180,2018': 1.0, 'United States聽Charlotte Douglas International Airport:46446721,2018': 1.0, 'United Kingdom聽London Gatwick Airport:46432630,2018': 1.0, 'Germany聽Munich Airport:46253623,2018': 1.0, 'United States聽Newark Liberty International Airport:46065175,2018': 1.0, 'Russia聽Sheremetyevo International Airport:45836255,2018': 1.0, 'United States聽Miami International Airport:45044312,2018': 1.0, 'United States聽Phoenix Sky Harbor International Airport:44943686,2018': 1.0, \"China聽Xi'an Xianyang International Airport:44653927,2018\": 0.7805507745266781, 'Philippines聽Ninoy Aquino International Airport:44488321,2018': 1.0, 'Australia聽Sydney Kingsford-Smith Airport:44475976,2018': 1.0, 'United States聽George Bush Intercontinental Airport:43807539,2018': 1.0, 'China聽Shanghai Hongqiao International Airport:43628004,2018': 0.7805507745266781, 'Italy聽Rome鈥揊iumicino International Airport \"Leonardo da Vinci\":42991056,2018': 1.0, 'Japan聽Narita International Airport:42549173,2018': 1.0}\n"
     ]
    }
   ],
   "source": [
    "clustering = nx.clustering(AirplaneGraph)\n",
    "print(clustering)"
   ]
  },
  {
   "cell_type": "code",
   "execution_count": 12,
   "metadata": {},
   "outputs": [],
   "source": [
    "AirplaneGraph2 = nx.Graph()"
   ]
  },
  {
   "cell_type": "code",
   "execution_count": 13,
   "metadata": {},
   "outputs": [],
   "source": [
    "for f in AirplaneInfo:\n",
    "    AirplaneGraph2.add_node(f.label, label = f.label, size = int(50 * float('%.5f' %clustering[f.label])), color = '#b1d1fc')"
   ]
  },
  {
   "cell_type": "code",
   "execution_count": 14,
   "metadata": {},
   "outputs": [],
   "source": [
    "for f1 in AirplaneInfo:\n",
    "    for f2 in AirplaneInfo:\n",
    "        if not f1 == f2:\n",
    "            if f1.country=='China' and f2.country =='China':\n",
    "                AirplaneGraph2.add_edge(f1.label,f2.label,weight=1,color='yellow')\n",
    "            if f1.passengers <= 20000000 and f2.passengers <= 20000000:\n",
    "                AirplaneGraph2.add_edge(f1.label,f2.label,weight=1,color='brown') \n",
    "            if 20000000< f1.passengers <= 50000000 and 20000000< f2.passengers <= 50000000:\n",
    "                AirplaneGraph2.add_edge(f1.label,f2.label,weight=1,color='green') \n",
    "            if 50000000 <f1.passengers <= 80000000 and 50000000 <f2.passengers <= 80000000:\n",
    "                AirplaneGraph2.add_edge(f1.label,f2.label,weight=1,color='grey')\n",
    "            if f1.passengers > 80000000 and f2.passengers > 80000000:\n",
    "                AirplaneGraph2.add_edge(f1.label,f2.label,weight=1,color='orange')\n",
    "                "
   ]
  },
  {
   "cell_type": "code",
   "execution_count": 15,
   "metadata": {},
   "outputs": [],
   "source": [
    "from pyvis.network import Network\n",
    "nt = Network('1080px', '1080px')\n",
    "nt.toggle_hide_edges_on_drag(True)\n",
    "nt.barnes_hut()\n",
    "nt.from_nx(AirplaneGraph2)\n",
    "nt.show_buttons(filter_=['physics'])\n",
    "nt.show('nx.html')"
   ]
  },
  {
   "cell_type": "markdown",
   "metadata": {},
   "source": [
    "This graph shows a comparison of the number of different passengers and a visualisation of the number of airports in China."
   ]
  },
  {
   "cell_type": "code",
   "execution_count": null,
   "metadata": {},
   "outputs": [],
   "source": []
  },
  {
   "cell_type": "code",
   "execution_count": null,
   "metadata": {},
   "outputs": [],
   "source": []
  }
 ],
 "metadata": {
  "kernelspec": {
   "display_name": "Python 3",
   "language": "python",
   "name": "python3"
  },
  "language_info": {
   "codemirror_mode": {
    "name": "ipython",
    "version": 3
   },
   "file_extension": ".py",
   "mimetype": "text/x-python",
   "name": "python",
   "nbconvert_exporter": "python",
   "pygments_lexer": "ipython3",
   "version": "3.8.8"
  }
 },
 "nbformat": 4,
 "nbformat_minor": 4
}
